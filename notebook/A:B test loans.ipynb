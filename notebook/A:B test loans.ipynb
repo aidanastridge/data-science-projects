{
 "cells": [
  {
   "cell_type": "raw",
   "metadata": {},
   "source": [
    "---\n",
    "title: \"Hypthesis testing and regression analysis on loans\"\n",
    "author: \"Aidan Astridge\"\n",
    "format: html\n",
    "---"
   ]
  },
  {
   "cell_type": "code",
   "execution_count": 146,
   "metadata": {},
   "outputs": [],
   "source": [
    "#Load packages\n",
    "import pandas as pd\n",
    "import numpy as np\n",
    "import seaborn as sns\n",
    "import scipy.stats as stats\n",
    "from scipy.stats import f_oneway\n",
    "import statsmodels.api as sm\n",
    "import statsmodels.formula.api as smf\n",
    "import patsy as p\n",
    "\n",
    "#Import data\n",
    "df = pd.read_csv(\"/Users/aidanastridge/Documents/CorrelationData.csv\")"
   ]
  },
  {
   "cell_type": "code",
   "execution_count": 147,
   "metadata": {},
   "outputs": [
    {
     "data": {
      "text/plain": [
       "Ttest_indResult(statistic=10.637795288841636, pvalue=8.992464337219613e-24)"
      ]
     },
     "execution_count": 147,
     "metadata": {},
     "output_type": "execute_result"
    }
   ],
   "source": [
    "# Two sample independent t-test\n",
    "x = df.loc[df['BusinessLine'] == 'Corporate', 'Correlation']\n",
    "y = df.loc[df['BusinessLine'] == 'Commercial', 'Correlation']\n",
    "stats.ttest_ind(a=x, b=y, equal_var=False)"
   ]
  },
  {
   "attachments": {},
   "cell_type": "markdown",
   "metadata": {},
   "source": [
    "Loan coorelation with the market by corporate and ccommercial lines of credit is significantly different."
   ]
  },
  {
   "cell_type": "code",
   "execution_count": 148,
   "metadata": {},
   "outputs": [
    {
     "data": {
      "text/plain": [
       "TtestResult(statistic=-5.399456604900967, pvalue=9.08974473405531e-08, df=719)"
      ]
     },
     "execution_count": 148,
     "metadata": {},
     "output_type": "execute_result"
    }
   ],
   "source": [
    "# Matched pair t-test\n",
    "x = df[\"CompanySizeScore\"]\n",
    "y = df[\"CompanyLeverageScore\"]\n",
    "stats.ttest_rel(x, y)"
   ]
  },
  {
   "attachments": {},
   "cell_type": "markdown",
   "metadata": {},
   "source": [
    "The company size score and company leverage score are siginificantly different. "
   ]
  },
  {
   "cell_type": "code",
   "execution_count": 149,
   "metadata": {},
   "outputs": [
    {
     "data": {
      "text/plain": [
       "F_onewayResult(statistic=220.94646541447028, pvalue=1.7542413502168605e-75)"
      ]
     },
     "execution_count": 149,
     "metadata": {},
     "output_type": "execute_result"
    }
   ],
   "source": [
    "#ANOVA on Business Line (Corporate, Commercial, Small Business)\n",
    "x = df.loc[df['BusinessLine'] == 'Commercial', 'Correlation']\n",
    "y = df.loc[df['BusinessLine'] == 'Corporate', 'Correlation']\n",
    "z = df.loc[df['BusinessLine'] == 'SmallBusiness', 'Correlation']\n",
    "\n",
    "f_oneway(x, y, z)"
   ]
  },
  {
   "attachments": {},
   "cell_type": "markdown",
   "metadata": {},
   "source": [
    "Loan coorelation with the market by corporate, commercial, small business lines of credit and is significantly different."
   ]
  },
  {
   "cell_type": "code",
   "execution_count": 150,
   "metadata": {},
   "outputs": [
    {
     "name": "stdout",
     "output_type": "stream",
     "text": [
      "                            OLS Regression Results                            \n",
      "==============================================================================\n",
      "Dep. Variable:            Correlation   R-squared:                       0.330\n",
      "Model:                            OLS   Adj. R-squared:                  0.329\n",
      "Method:                 Least Squares   F-statistic:                     354.3\n",
      "Date:                Tue, 18 Jul 2023   Prob (F-statistic):           1.49e-64\n",
      "Time:                        10:44:52   Log-Likelihood:                -1908.0\n",
      "No. Observations:                 720   AIC:                             3820.\n",
      "Df Residuals:                     718   BIC:                             3829.\n",
      "Df Model:                           1                                         \n",
      "Covariance Type:            nonrobust                                         \n",
      "====================================================================================\n",
      "                       coef    std err          t      P>|t|      [0.025      0.975]\n",
      "------------------------------------------------------------------------------------\n",
      "Intercept            2.7135      0.347      7.821      0.000       2.032       3.395\n",
      "CompanySizeScore     1.3156      0.070     18.824      0.000       1.178       1.453\n",
      "==============================================================================\n",
      "Omnibus:                       39.040   Durbin-Watson:                   1.853\n",
      "Prob(Omnibus):                  0.000   Jarque-Bera (JB):               24.072\n",
      "Skew:                           0.309   Prob(JB):                     5.93e-06\n",
      "Kurtosis:                       2.352   Cond. No.                         14.0\n",
      "==============================================================================\n",
      "\n",
      "Notes:\n",
      "[1] Standard Errors assume that the covariance matrix of the errors is correctly specified.\n"
     ]
    }
   ],
   "source": [
    "x = df[\"CompanySizeScore\"]\n",
    "y = df[\"Correlation\"]\n",
    "\n",
    "mod = smf.ols(formula=\"Correlation ~ CompanySizeScore\", data=df).fit()\n",
    "print(mod.summary())\n"
   ]
  },
  {
   "attachments": {},
   "cell_type": "markdown",
   "metadata": {},
   "source": [
    "33% of the change in a loans correlation with the market can be explained by the company size score. The latter is a significant predictor.  "
   ]
  },
  {
   "cell_type": "code",
   "execution_count": 151,
   "metadata": {},
   "outputs": [
    {
     "name": "stdout",
     "output_type": "stream",
     "text": [
      "                            OLS Regression Results                            \n",
      "==============================================================================\n",
      "Dep. Variable:            Correlation   R-squared:                       0.404\n",
      "Model:                            OLS   Adj. R-squared:                  0.402\n",
      "Method:                 Least Squares   F-statistic:                     162.0\n",
      "Date:                Tue, 18 Jul 2023   Prob (F-statistic):           4.03e-80\n",
      "Time:                        10:44:52   Log-Likelihood:                -1865.9\n",
      "No. Observations:                 720   AIC:                             3740.\n",
      "Df Residuals:                     716   BIC:                             3758.\n",
      "Df Model:                           3                                         \n",
      "Covariance Type:            nonrobust                                         \n",
      "====================================================================================================\n",
      "                                       coef    std err          t      P>|t|      [0.025      0.975]\n",
      "----------------------------------------------------------------------------------------------------\n",
      "Intercept                            5.9752      0.492     12.143      0.000       5.009       6.941\n",
      "C(BusinessLine)[T.Corporate]         2.5869      0.381      6.796      0.000       1.840       3.334\n",
      "C(BusinessLine)[T.SmallBusiness]    -1.8006      0.319     -5.640      0.000      -2.427      -1.174\n",
      "CompanySizeScore                     0.5521      0.105      5.252      0.000       0.346       0.758\n",
      "==============================================================================\n",
      "Omnibus:                       16.055   Durbin-Watson:                   1.925\n",
      "Prob(Omnibus):                  0.000   Jarque-Bera (JB):                9.124\n",
      "Skew:                           0.071   Prob(JB):                       0.0104\n",
      "Kurtosis:                       2.467   Cond. No.                         23.7\n",
      "==============================================================================\n",
      "\n",
      "Notes:\n",
      "[1] Standard Errors assume that the covariance matrix of the errors is correctly specified.\n"
     ]
    }
   ],
   "source": [
    "x = df[[\"CompanySizeScore\",\"BusinessLine\"]]\n",
    "y = df[\"Correlation\"]\n",
    "mod = smf.ols(formula=\"Correlation ~ CompanySizeScore + C(BusinessLine)\", data=df).fit()\n",
    "print(mod.summary())"
   ]
  },
  {
   "attachments": {},
   "cell_type": "markdown",
   "metadata": {},
   "source": [
    "When accounting for a businessess line of credit, 40% of the change in a loans correlation with the market can be explained by the company size score. All variables are significant predictors. "
   ]
  },
  {
   "cell_type": "code",
   "execution_count": 152,
   "metadata": {},
   "outputs": [
    {
     "name": "stdout",
     "output_type": "stream",
     "text": [
      "                            OLS Regression Results                            \n",
      "==============================================================================\n",
      "Dep. Variable:            Correlation   R-squared:                       0.405\n",
      "Model:                            OLS   Adj. R-squared:                  0.401\n",
      "Method:                 Least Squares   F-statistic:                     97.38\n",
      "Date:                Tue, 18 Jul 2023   Prob (F-statistic):           3.22e-78\n",
      "Time:                        10:44:52   Log-Likelihood:                -1865.2\n",
      "No. Observations:                 720   AIC:                             3742.\n",
      "Df Residuals:                     714   BIC:                             3770.\n",
      "Df Model:                           5                                         \n",
      "Covariance Type:            nonrobust                                         \n",
      "==================================================================================================================\n",
      "                                                     coef    std err          t      P>|t|      [0.025      0.975]\n",
      "------------------------------------------------------------------------------------------------------------------\n",
      "Intercept                                          5.9419      0.896      6.629      0.000       4.182       7.702\n",
      "BusinessLine[T.Corporate]                          2.0312      1.319      1.540      0.124      -0.559       4.621\n",
      "BusinessLine[T.SmallBusiness]                     -1.0464      1.160     -0.902      0.367      -3.323       1.230\n",
      "CompanySizeScore                                   0.5600      0.206      2.722      0.007       0.156       0.964\n",
      "CompanySizeScore:BusinessLine[T.Corporate]         0.0825      0.252      0.328      0.743      -0.412       0.577\n",
      "CompanySizeScore:BusinessLine[T.SmallBusiness]    -0.2410      0.307     -0.785      0.433      -0.844       0.362\n",
      "==============================================================================\n",
      "Omnibus:                       14.129   Durbin-Watson:                   1.927\n",
      "Prob(Omnibus):                  0.001   Jarque-Bera (JB):                8.251\n",
      "Skew:                           0.058   Prob(JB):                       0.0162\n",
      "Kurtosis:                       2.489   Cond. No.                         88.3\n",
      "==============================================================================\n",
      "\n",
      "Notes:\n",
      "[1] Standard Errors assume that the covariance matrix of the errors is correctly specified.\n"
     ]
    }
   ],
   "source": [
    "y, X = p.dmatrices('Correlation ~ CompanySizeScore + BusinessLine + CompanySizeScore:BusinessLine', df)\n",
    "mod = sm.OLS(y,X).fit()\n",
    "print(mod.summary())"
   ]
  },
  {
   "attachments": {},
   "cell_type": "markdown",
   "metadata": {},
   "source": [
    "When accounting for and interacting with a businessess line of credit, 40% of the change in a loans correlation with the market can be explained by the company size score. However, the business line and its interaction become insignificant when predicting future values. "
   ]
  }
 ],
 "metadata": {
  "kernelspec": {
   "display_name": "Python 3",
   "language": "python",
   "name": "python3"
  },
  "language_info": {
   "codemirror_mode": {
    "name": "ipython",
    "version": 3
   },
   "file_extension": ".py",
   "mimetype": "text/x-python",
   "name": "python",
   "nbconvert_exporter": "python",
   "pygments_lexer": "ipython3",
   "version": "3.11.3"
  },
  "orig_nbformat": 4
 },
 "nbformat": 4,
 "nbformat_minor": 2
}
