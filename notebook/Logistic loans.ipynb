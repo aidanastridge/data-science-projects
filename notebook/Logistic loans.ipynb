{
 "cells": [
  {
   "cell_type": "code",
   "execution_count": 126,
   "metadata": {},
   "outputs": [],
   "source": [
    "import pandas as pd\n",
    "import numpy as np\n",
    "df = pd.read_csv(\"/admission.csv\")"
   ]
  },
  {
   "cell_type": "code",
   "execution_count": 127,
   "metadata": {},
   "outputs": [],
   "source": [
    "df = df.replace('admitted', 1)\n",
    "df = df.replace('denied', 0)\n",
    "y = df[['admission']]\n",
    "x = df[['school']]"
   ]
  },
  {
   "cell_type": "code",
   "execution_count": 128,
   "metadata": {},
   "outputs": [],
   "source": [
    "from sklearn.model_selection import train_test_split\n",
    "xtrain, xtest, ytrain, ytest = train_test_split(\n",
    "    x, y, test_size=0.25, random_state=0)"
   ]
  },
  {
   "cell_type": "code",
   "execution_count": 129,
   "metadata": {},
   "outputs": [
    {
     "name": "stdout",
     "output_type": "stream",
     "text": [
      "Formula:  admission ~ C(school) \n",
      "\n",
      "Optimization terminated successfully.\n",
      "         Current function value: 0.511707\n",
      "         Iterations 5\n"
     ]
    }
   ],
   "source": [
    "import statsmodels.formula.api as smf\n",
    "\n",
    "# Create the formula string \n",
    "formula = \"admission ~ C(school)\"\n",
    "print(\"Formula: \", formula, \"\\n\")\n",
    "\n",
    "trainingdata = pd.concat([xtrain,ytrain], axis = 1)\n",
    "\n",
    "# Build the model\n",
    "log_reg_1 = smf.logit(formula, data=trainingdata).fit()"
   ]
  },
  {
   "cell_type": "code",
   "execution_count": 130,
   "metadata": {},
   "outputs": [
    {
     "data": {
      "text/html": [
       "<table class=\"simpletable\">\n",
       "<caption>Logit Regression Results</caption>\n",
       "<tr>\n",
       "  <th>Dep. Variable:</th>       <td>admission</td>    <th>  No. Observations:  </th>  <td>   900</td>  \n",
       "</tr>\n",
       "<tr>\n",
       "  <th>Model:</th>                 <td>Logit</td>      <th>  Df Residuals:      </th>  <td>   898</td>  \n",
       "</tr>\n",
       "<tr>\n",
       "  <th>Method:</th>                 <td>MLE</td>       <th>  Df Model:          </th>  <td>     1</td>  \n",
       "</tr>\n",
       "<tr>\n",
       "  <th>Date:</th>            <td>Sat, 22 Jul 2023</td> <th>  Pseudo R-squ.:     </th>  <td>0.2262</td>  \n",
       "</tr>\n",
       "<tr>\n",
       "  <th>Time:</th>                <td>09:42:01</td>     <th>  Log-Likelihood:    </th> <td> -460.54</td> \n",
       "</tr>\n",
       "<tr>\n",
       "  <th>converged:</th>             <td>True</td>       <th>  LL-Null:           </th> <td> -595.15</td> \n",
       "</tr>\n",
       "<tr>\n",
       "  <th>Covariance Type:</th>     <td>nonrobust</td>    <th>  LLR p-value:       </th> <td>1.670e-60</td>\n",
       "</tr>\n",
       "</table>\n",
       "<table class=\"simpletable\">\n",
       "<tr>\n",
       "          <td></td>            <th>coef</th>     <th>std err</th>      <th>z</th>      <th>P>|z|</th>  <th>[0.025</th>    <th>0.975]</th>  \n",
       "</tr>\n",
       "<tr>\n",
       "  <th>Intercept</th>        <td>    1.4795</td> <td>    0.106</td> <td>   14.005</td> <td> 0.000</td> <td>    1.272</td> <td>    1.687</td>\n",
       "</tr>\n",
       "<tr>\n",
       "  <th>C(school)[T.law]</th> <td>   -2.5225</td> <td>    0.168</td> <td>  -15.057</td> <td> 0.000</td> <td>   -2.851</td> <td>   -2.194</td>\n",
       "</tr>\n",
       "</table>"
      ],
      "text/plain": [
       "<class 'statsmodels.iolib.summary.Summary'>\n",
       "\"\"\"\n",
       "                           Logit Regression Results                           \n",
       "==============================================================================\n",
       "Dep. Variable:              admission   No. Observations:                  900\n",
       "Model:                          Logit   Df Residuals:                      898\n",
       "Method:                           MLE   Df Model:                            1\n",
       "Date:                Sat, 22 Jul 2023   Pseudo R-squ.:                  0.2262\n",
       "Time:                        09:42:01   Log-Likelihood:                -460.54\n",
       "converged:                       True   LL-Null:                       -595.15\n",
       "Covariance Type:            nonrobust   LLR p-value:                 1.670e-60\n",
       "====================================================================================\n",
       "                       coef    std err          z      P>|z|      [0.025      0.975]\n",
       "------------------------------------------------------------------------------------\n",
       "Intercept            1.4795      0.106     14.005      0.000       1.272       1.687\n",
       "C(school)[T.law]    -2.5225      0.168    -15.057      0.000      -2.851      -2.194\n",
       "====================================================================================\n",
       "\"\"\""
      ]
     },
     "execution_count": 130,
     "metadata": {},
     "output_type": "execute_result"
    }
   ],
   "source": [
    "log_reg_1.summary()"
   ]
  },
  {
   "cell_type": "code",
   "execution_count": 131,
   "metadata": {},
   "outputs": [
    {
     "name": "stdout",
     "output_type": "stream",
     "text": [
      "                        OR  Lower CI  Upper CI\n",
      "Intercept         4.390909  3.569665  5.401090\n",
      "C(school)[T.law]  0.080262  0.057797  0.111458\n"
     ]
    }
   ],
   "source": [
    "odds_ratios = pd.DataFrame(\n",
    "    {\n",
    "        \"OR\": log_reg_1.params,\n",
    "        \"Lower CI\": log_reg_1.conf_int()[0],\n",
    "        \"Upper CI\": log_reg_1.conf_int()[1],\n",
    "    }\n",
    ")\n",
    "odds_ratios = np.exp(odds_ratios)\n",
    "\n",
    "print(odds_ratios)"
   ]
  },
  {
   "cell_type": "code",
   "execution_count": 132,
   "metadata": {},
   "outputs": [
    {
     "name": "stdout",
     "output_type": "stream",
     "text": [
      "Formula:  admission ~ C(school) + C(gender) + SAT100 \n",
      "\n",
      "Optimization terminated successfully.\n",
      "         Current function value: 0.186427\n",
      "         Iterations 9\n"
     ]
    }
   ],
   "source": [
    "x2 = df[[\"gender\",\"school\",\"SAT100\"]]\n",
    "x2train, x2test, y2train, y2test = train_test_split(\n",
    "    x2, y, test_size=0.25, random_state=0)\n",
    "\n",
    "# Create the formula string \n",
    "formula = \"admission ~ C(school) + C(gender) + SAT100\"\n",
    "print(\"Formula: \", formula, \"\\n\")\n",
    "\n",
    "trainingdata = pd.concat([x2train,y2train], axis = 1)\n",
    "\n",
    "# Build the model\n",
    "log_reg_2 = smf.logit(formula, data=trainingdata).fit()"
   ]
  },
  {
   "cell_type": "code",
   "execution_count": 133,
   "metadata": {},
   "outputs": [
    {
     "data": {
      "text/html": [
       "<table class=\"simpletable\">\n",
       "<caption>Logit Regression Results</caption>\n",
       "<tr>\n",
       "  <th>Dep. Variable:</th>       <td>admission</td>    <th>  No. Observations:  </th>   <td>   900</td>  \n",
       "</tr>\n",
       "<tr>\n",
       "  <th>Model:</th>                 <td>Logit</td>      <th>  Df Residuals:      </th>   <td>   896</td>  \n",
       "</tr>\n",
       "<tr>\n",
       "  <th>Method:</th>                 <td>MLE</td>       <th>  Df Model:          </th>   <td>     3</td>  \n",
       "</tr>\n",
       "<tr>\n",
       "  <th>Date:</th>            <td>Sat, 22 Jul 2023</td> <th>  Pseudo R-squ.:     </th>   <td>0.7181</td>  \n",
       "</tr>\n",
       "<tr>\n",
       "  <th>Time:</th>                <td>09:42:01</td>     <th>  Log-Likelihood:    </th>  <td> -167.78</td> \n",
       "</tr>\n",
       "<tr>\n",
       "  <th>converged:</th>             <td>True</td>       <th>  LL-Null:           </th>  <td> -595.15</td> \n",
       "</tr>\n",
       "<tr>\n",
       "  <th>Covariance Type:</th>     <td>nonrobust</td>    <th>  LLR p-value:       </th> <td>5.824e-185</td>\n",
       "</tr>\n",
       "</table>\n",
       "<table class=\"simpletable\">\n",
       "<tr>\n",
       "          <td></td>             <th>coef</th>     <th>std err</th>      <th>z</th>      <th>P>|z|</th>  <th>[0.025</th>    <th>0.975]</th>  \n",
       "</tr>\n",
       "<tr>\n",
       "  <th>Intercept</th>         <td>  -26.6020</td> <td>    2.233</td> <td>  -11.913</td> <td> 0.000</td> <td>  -30.979</td> <td>  -22.225</td>\n",
       "</tr>\n",
       "<tr>\n",
       "  <th>C(school)[T.law]</th>  <td>   -3.2524</td> <td>    0.403</td> <td>   -8.078</td> <td> 0.000</td> <td>   -4.042</td> <td>   -2.463</td>\n",
       "</tr>\n",
       "<tr>\n",
       "  <th>C(gender)[T.male]</th> <td>   -0.7742</td> <td>    0.375</td> <td>   -2.067</td> <td> 0.039</td> <td>   -1.508</td> <td>   -0.040</td>\n",
       "</tr>\n",
       "<tr>\n",
       "  <th>SAT100</th>            <td>    1.7022</td> <td>    0.135</td> <td>   12.601</td> <td> 0.000</td> <td>    1.437</td> <td>    1.967</td>\n",
       "</tr>\n",
       "</table>"
      ],
      "text/plain": [
       "<class 'statsmodels.iolib.summary.Summary'>\n",
       "\"\"\"\n",
       "                           Logit Regression Results                           \n",
       "==============================================================================\n",
       "Dep. Variable:              admission   No. Observations:                  900\n",
       "Model:                          Logit   Df Residuals:                      896\n",
       "Method:                           MLE   Df Model:                            3\n",
       "Date:                Sat, 22 Jul 2023   Pseudo R-squ.:                  0.7181\n",
       "Time:                        09:42:01   Log-Likelihood:                -167.78\n",
       "converged:                       True   LL-Null:                       -595.15\n",
       "Covariance Type:            nonrobust   LLR p-value:                5.824e-185\n",
       "=====================================================================================\n",
       "                        coef    std err          z      P>|z|      [0.025      0.975]\n",
       "-------------------------------------------------------------------------------------\n",
       "Intercept           -26.6020      2.233    -11.913      0.000     -30.979     -22.225\n",
       "C(school)[T.law]     -3.2524      0.403     -8.078      0.000      -4.042      -2.463\n",
       "C(gender)[T.male]    -0.7742      0.375     -2.067      0.039      -1.508      -0.040\n",
       "SAT100                1.7022      0.135     12.601      0.000       1.437       1.967\n",
       "=====================================================================================\n",
       "\"\"\""
      ]
     },
     "execution_count": 133,
     "metadata": {},
     "output_type": "execute_result"
    }
   ],
   "source": [
    "log_reg_2.summary()"
   ]
  },
  {
   "cell_type": "code",
   "execution_count": 134,
   "metadata": {},
   "outputs": [
    {
     "name": "stdout",
     "output_type": "stream",
     "text": [
      "                             OR      Lower CI      Upper CI\n",
      "Intercept          2.798331e-12  3.516850e-14  2.226611e-10\n",
      "C(school)[T.law]   3.868139e-02  1.757076e-02  8.515566e-02\n",
      "C(gender)[T.male]  4.610780e-01  2.212905e-01  9.606963e-01\n",
      "SAT100             5.485777e+00  4.209729e+00  7.148620e+00\n"
     ]
    }
   ],
   "source": [
    "odds_ratios = pd.DataFrame(\n",
    "    {\n",
    "        \"OR\": log_reg_2.params,\n",
    "        \"Lower CI\": log_reg_2.conf_int()[0],\n",
    "        \"Upper CI\": log_reg_2.conf_int()[1],\n",
    "    }\n",
    ")\n",
    "odds_ratios = np.exp(odds_ratios)\n",
    "\n",
    "print(odds_ratios)"
   ]
  }
 ],
 "metadata": {
  "kernelspec": {
   "display_name": "Python 3",
   "language": "python",
   "name": "python3"
  },
  "language_info": {
   "codemirror_mode": {
    "name": "ipython",
    "version": 3
   },
   "file_extension": ".py",
   "mimetype": "text/x-python",
   "name": "python",
   "nbconvert_exporter": "python",
   "pygments_lexer": "ipython3",
   "version": "3.11.3"
  },
  "orig_nbformat": 4
 },
 "nbformat": 4,
 "nbformat_minor": 2
}
